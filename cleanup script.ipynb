{
 "cells": [
  {
   "cell_type": "code",
   "execution_count": null,
   "metadata": {},
   "outputs": [],
   "source": [
    "# Imports\n",
    "import pandas as pd\n",
    "import numpy as np\n",
    "\n",
    "# CMD input for filename/filepath\n",
    "user_input = input(\"Enter file name for cleanup. Dont forget to add '.csv' to the filename: \\n\")\n",
    "\n",
    "# Function to remove duplicate names in Names column\n",
    "def unique_names(name):\n",
    "    if name == '' or name == ' ':\n",
    "        pass\n",
    "    else:\n",
    "        name_list = list(np.unique(name.split(' ')))\n",
    "        return name_list\n",
    "\n",
    "# Master function to read in csv file and group by based on ID. Duplicate values are combined in same cell.\n",
    "def master_function(file_path):\n",
    "    df = pd.read_csv(file_path)\n",
    "\n",
    "    df = df.fillna('')\n",
    "    # Group by ID and aggregate all other values with commas.\n",
    "    df = df.groupby(['ID'], as_index = False).agg({'Names': ' '.join,\n",
    "                                                    'Values': ', '.join,\n",
    "                                                    'Unique Stuff': ', '.join})\n",
    "\n",
    "    # Apply unique names function to Names column\n",
    "    df.Names = df.Names.apply(unique_names)\n",
    "\n",
    "    # Save to csv called output.csv\n",
    "    df.to_csv('output.csv', index = False)\n",
    "    return df\n",
    "\n",
    "# Run master function on userinput csv file\n",
    "master_function(user_input)\n",
    "print(\"... \\nCompleted! \\nFile saved to 'output.csv'\")"
   ]
  }
 ],
 "metadata": {
  "kernelspec": {
   "display_name": "Python 3",
   "language": "python",
   "name": "python3"
  },
  "language_info": {
   "codemirror_mode": {
    "name": "ipython",
    "version": 3
   },
   "file_extension": ".py",
   "mimetype": "text/x-python",
   "name": "python",
   "nbconvert_exporter": "python",
   "pygments_lexer": "ipython3",
   "version": "3.7.7"
  }
 },
 "nbformat": 4,
 "nbformat_minor": 4
}
